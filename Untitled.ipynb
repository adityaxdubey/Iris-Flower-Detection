{
 "cells": [
  {
   "cell_type": "code",
   "execution_count": 5,
   "id": "368e287b-1059-4423-bb8a-022d638bc616",
   "metadata": {},
   "outputs": [],
   "source": [
    "import numpy as np\n",
    "from sklearn.datasets import load_iris\n",
    "from sklearn.model_selection import train_test_split\n",
    "from sklearn.metrics import accuracy_score"
   ]
  },
  {
   "cell_type": "code",
   "execution_count": 6,
   "id": "c070fa8b-6951-4f4f-b504-377fbdcb0c1e",
   "metadata": {},
   "outputs": [],
   "source": [
    "def sig_fn(z):\n",
    "    return 1/(1+np.exp(-z))"
   ]
  },
  {
   "cell_type": "code",
   "execution_count": 18,
   "id": "8b9ca581-d5ae-4852-b693-7c98300b884f",
   "metadata": {},
   "outputs": [],
   "source": [
    "def log_reg(X,y,learning_rate=0.01,iteration=1000):\n",
    "    W=np.zeros(X.shape[1])\n",
    "    b=0\n",
    "    for i in range(iteration):\n",
    "        model=np.dot(X,W)+b\n",
    "        y1=sig_fn(model)\n",
    "        m=len(X)\n",
    "        dW=(1/m)*np.dot(X.T,(y1-y))\n",
    "        db=(1/m)*np.sum(y1-y)\n",
    "        W-=learning_rate*dW\n",
    "        b-=learning_rate*db\n",
    "\n",
    "    return W,b\n",
    "\n",
    "\n"
   ]
  },
  {
   "cell_type": "code",
   "execution_count": 22,
   "id": "aa56dc66-bdeb-470e-a319-2f43b8f0cbae",
   "metadata": {},
   "outputs": [],
   "source": [
    "def predict(X,W,b):\n",
    "    model=np.dot(X,W)+b\n",
    "    y1=sig_fn(model)\n",
    "    y_class=np.where(\n",
    "        y1>=0.5,1,0)\n",
    "    return y_class\n"
   ]
  },
  {
   "cell_type": "code",
   "execution_count": 11,
   "id": "c48fc7c1-7885-4f72-9055-16dd8a5eef00",
   "metadata": {},
   "outputs": [],
   "source": [
    "set=load_iris()\n"
   ]
  },
  {
   "cell_type": "code",
   "execution_count": 13,
   "id": "433b7609-a529-4441-9b74-9e78b3ffced2",
   "metadata": {},
   "outputs": [],
   "source": [
    "X=set.data\n",
    "y=set.target"
   ]
  },
  {
   "cell_type": "code",
   "execution_count": 14,
   "id": "ec54f0ed-7efb-4f8a-a7e8-24ff71d54892",
   "metadata": {},
   "outputs": [],
   "source": [
    "X_train,X_test,y_train,y_test=train_test_split(X,y,test_size=0.2,random_state=40)"
   ]
  },
  {
   "cell_type": "code",
   "execution_count": 29,
   "id": "89dbfc83-d3e2-4d43-9c4f-5b12c6285a26",
   "metadata": {},
   "outputs": [],
   "source": [
    "W,b=log_reg(X_train,y_train,learning_rate=0.001,iteration=1000)"
   ]
  },
  {
   "cell_type": "code",
   "execution_count": 30,
   "id": "97dc80fa-7b70-4370-addc-0207a05b68ea",
   "metadata": {},
   "outputs": [],
   "source": [
    "y1=predict(X_test,W,b)"
   ]
  },
  {
   "cell_type": "code",
   "execution_count": 31,
   "id": "1faa5300-8f5b-42d1-a20e-a7ee1c427bac",
   "metadata": {},
   "outputs": [],
   "source": [
    "accuracy=accuracy_score(y_test,y1)"
   ]
  },
  {
   "cell_type": "code",
   "execution_count": 32,
   "id": "f82896fa-c122-49ec-81f6-2f466f128172",
   "metadata": {},
   "outputs": [
    {
     "name": "stdout",
     "output_type": "stream",
     "text": [
      "Accuracy: 0.4\n"
     ]
    }
   ],
   "source": [
    "print(\"Accuracy:\",accuracy)"
   ]
  },
  {
   "cell_type": "code",
   "execution_count": null,
   "id": "0902aba1-d19e-4799-98a4-f1ca3ca60229",
   "metadata": {},
   "outputs": [],
   "source": []
  }
 ],
 "metadata": {
  "kernelspec": {
   "display_name": "Python 3 (ipykernel)",
   "language": "python",
   "name": "python3"
  },
  "language_info": {
   "codemirror_mode": {
    "name": "ipython",
    "version": 3
   },
   "file_extension": ".py",
   "mimetype": "text/x-python",
   "name": "python",
   "nbconvert_exporter": "python",
   "pygments_lexer": "ipython3",
   "version": "3.11.4"
  }
 },
 "nbformat": 4,
 "nbformat_minor": 5
}
